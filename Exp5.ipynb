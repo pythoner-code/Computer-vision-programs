{
  "nbformat": 4,
  "nbformat_minor": 0,
  "metadata": {
    "colab": {
      "provenance": [],
      "authorship_tag": "ABX9TyPoAV0GrN2K4GOVRuDod9mh",
      "include_colab_link": true
    },
    "kernelspec": {
      "name": "python3",
      "display_name": "Python 3"
    },
    "language_info": {
      "name": "python"
    }
  },
  "cells": [
    {
      "cell_type": "markdown",
      "metadata": {
        "id": "view-in-github",
        "colab_type": "text"
      },
      "source": [
        "<a href=\"https://colab.research.google.com/github/pythoner-code/Computer-vision-programs/blob/main/Exp5.ipynb\" target=\"_parent\"><img src=\"https://colab.research.google.com/assets/colab-badge.svg\" alt=\"Open In Colab\"/></a>"
      ]
    },
    {
      "cell_type": "code",
      "execution_count": 13,
      "metadata": {
        "colab": {
          "base_uri": "https://localhost:8080/",
          "height": 1000
        },
        "id": "qhVMTBfA7G49",
        "outputId": "d25412fd-fcac-4e11-c280-cb4ce03bcb19"
      },
      "outputs": [
        {
          "output_type": "stream",
          "name": "stdout",
          "text": [
            "Model: Random Forest\n",
            "Accuracy: 0.9778\n",
            "Classification Report:\n",
            "               precision    recall  f1-score   support\n",
            "\n",
            "           0       1.00      0.94      0.97        17\n",
            "           1       1.00      1.00      1.00        11\n",
            "           2       1.00      1.00      1.00        17\n",
            "           3       1.00      0.94      0.97        17\n",
            "           4       0.96      1.00      0.98        25\n",
            "           5       0.96      1.00      0.98        22\n",
            "           6       1.00      1.00      1.00        19\n",
            "           7       0.95      0.95      0.95        19\n",
            "           8       1.00      1.00      1.00         8\n",
            "           9       0.96      0.96      0.96        25\n",
            "\n",
            "    accuracy                           0.98       180\n",
            "   macro avg       0.98      0.98      0.98       180\n",
            "weighted avg       0.98      0.98      0.98       180\n",
            "\n",
            "==================================================\n",
            "Model: Support Vector Machine\n",
            "Accuracy: 0.9778\n",
            "Classification Report:\n",
            "               precision    recall  f1-score   support\n",
            "\n",
            "           0       1.00      1.00      1.00        17\n",
            "           1       1.00      1.00      1.00        11\n",
            "           2       1.00      1.00      1.00        17\n",
            "           3       0.94      0.94      0.94        17\n",
            "           4       1.00      1.00      1.00        25\n",
            "           5       0.96      1.00      0.98        22\n",
            "           6       1.00      1.00      1.00        19\n",
            "           7       1.00      0.95      0.97        19\n",
            "           8       0.89      1.00      0.94         8\n",
            "           9       0.96      0.92      0.94        25\n",
            "\n",
            "    accuracy                           0.98       180\n",
            "   macro avg       0.97      0.98      0.98       180\n",
            "weighted avg       0.98      0.98      0.98       180\n",
            "\n",
            "==================================================\n",
            "Model: K-Nearest Neighbors\n",
            "Accuracy: 0.9833\n",
            "Classification Report:\n",
            "               precision    recall  f1-score   support\n",
            "\n",
            "           0       1.00      1.00      1.00        17\n",
            "           1       1.00      1.00      1.00        11\n",
            "           2       1.00      1.00      1.00        17\n",
            "           3       0.94      1.00      0.97        17\n",
            "           4       0.96      1.00      0.98        25\n",
            "           5       1.00      1.00      1.00        22\n",
            "           6       1.00      1.00      1.00        19\n",
            "           7       1.00      0.95      0.97        19\n",
            "           8       1.00      1.00      1.00         8\n",
            "           9       0.96      0.92      0.94        25\n",
            "\n",
            "    accuracy                           0.98       180\n",
            "   macro avg       0.99      0.99      0.99       180\n",
            "weighted avg       0.98      0.98      0.98       180\n",
            "\n",
            "==================================================\n"
          ]
        },
        {
          "output_type": "display_data",
          "data": {
            "text/plain": [
              "<Figure size 500x200 with 1 Axes>"
            ],
            "image/png": "[encoded data removed]"
          },
          "metadata": {}
        }
      ],
      "source": [
        "import numpy as np\n",
        "import matplotlib.pyplot as plt\n",
        "from sklearn.model_selection import train_test_split\n",
        "from sklearn.metrics import accuracy_score, classification_report\n",
        "from sklearn.ensemble import RandomForestClassifier\n",
        "from sklearn.svm import SVC\n",
        "from sklearn.neighbors import KNeighborsClassifier\n",
        "from sklearn.datasets import load_digits\n",
        "# Load a sample image dataset (digits dataset in this example)\n",
        "data = load_digits()\n",
        "X = data.images\n",
        "y = data.target\n",
        "# Flatten the images to use as feature vectors\n",
        "X = X.reshape((X.shape[0], -1))\n",
        "# Split the dataset into training and testing sets\n",
        "X_train, X_test, y_train, y_test = train_test_split(X, y, test_size=0.1, random_state=42)\n",
        "# Define a dictionary of classification models to compare\n",
        "models = {\n",
        "    \"Random Forest\": RandomForestClassifier(n_estimators=100, random_state=42),\n",
        "    \"Support Vector Machine\": SVC(kernel='linear', C=1),\n",
        "    \"K-Nearest Neighbors\": KNeighborsClassifier(n_neighbors=3)\n",
        "}\n",
        "# Train and evaluate each model\n",
        "results = {}\n",
        "for model_name, model in models.items():\n",
        "    model.fit(X_train, y_train)\n",
        "    y_pred = model.predict(X_test)\n",
        "    accuracy = accuracy_score(y_test, y_pred)\n",
        "    classification_rep = classification_report(y_test, y_pred)\n",
        "    results[model_name] = {\n",
        "        \"accuracy\": accuracy,\n",
        "        \"classification_report\": classification_rep\n",
        "    }\n",
        "# Compare and display the results\n",
        "for model_name, result in results.items():\n",
        "    print(f\"Model: {model_name}\")\n",
        "    print(f\"Accuracy: {result['accuracy']:.4f}\")\n",
        "    print(\"Classification Report:\\n\", result[\"classification_report\"])\n",
        "    print(\"=\" * 50)\n",
        "# Plot a bar chart to visualize model performance\n",
        "bar_width=0.2\n",
        "model_names = list(results.keys())\n",
        "accuracies = [result['accuracy'] for result in results.values()]\n",
        "plt.figure(figsize=(5, 2))\n",
        "plt.barh(model_names, accuracies, color='green', height=bar_width)\n",
        "plt.xlabel('Accuracy')\n",
        "plt.title('Model Comparison for Image Recognition')\n",
        "plt.gca().invert_yaxis()\n",
        "plt.show()"
      ]
    }
  ]
}